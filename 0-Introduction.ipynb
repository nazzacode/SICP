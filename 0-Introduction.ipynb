{
 "cells": [
  {
   "cell_type": "markdown",
   "metadata": {},
   "source": [
    "# Structure & Interpretation of Computer Programs (SICP) Notes\n",
    "---\n",
    "Nathan Sharp 2020"
   ]
  },
  {
   "cell_type": "markdown",
   "metadata": {},
   "source": [
    "## Dedication"
   ]
  },
  {
   "cell_type": "markdown",
   "metadata": {},
   "source": [
    "This book is dedicated, in respect and admiration, to the spirit that lives in\n",
    "the computer:\n",
    "\n",
    ">*“I think that it’s extraordinarily important that we in computer science keep fun in computing. When it started out, it was an awful\n",
    "lot of fun. Of course, the paying customers got shafted every now\n",
    "and then, and after a while we began to take their complaints seriously. We began to feel as if we really were responsible for the\n",
    "successful, error-free perfect use of these machines. I don’t think\n",
    "we are. I think we’re responsible for stretching them, setting them\n",
    "off in new directions and keeping fun in the house. I hope the field\n",
    "of computer science never loses its sense of fun. Above all, I hope\n",
    "we don’t become missionaries. Don’t feel as if you’re Bible salesmen. The world has too many of those already. What you know\n",
    "about computing other people will learn. Don’t feel as if the key to\n",
    "successful computing is only in your hands. What’s in your hands,\n",
    "I think and hope, is intelligence: the ability to see the machine as\n",
    "more than when you were first led up to it, that you can make it\n",
    "more.”*\n",
    " — Alan J. Perlis \n"
   ]
  },
  {
   "cell_type": "markdown",
   "metadata": {},
   "source": [
    "## Foreword\n"
   ]
  },
  {
   "cell_type": "markdown",
   "metadata": {},
   "source": [
    "*\\\"Complete formal arguments of correctness seldom accompany large programs.\\\"*\n",
    "\n",
    "The aim is to develop **idioms**, an arsenal of standard program structures of which we can become sure and learn to combine them into larger structures using organisatoinal techniques of proven value."
   ]
  },
  {
   "cell_type": "code",
   "execution_count": null,
   "metadata": {},
   "outputs": [],
   "source": []
  }
 ],
 "metadata": {
  "kernelspec": {
   "display_name": "Calysto Scheme 3",
   "language": "scheme",
   "name": "calysto_scheme"
  },
  "language_info": {
   "codemirror_mode": {
    "name": "scheme"
   },
   "mimetype": "text/x-scheme",
   "name": "scheme",
   "pygments_lexer": "scheme"
  }
 },
 "nbformat": 4,
 "nbformat_minor": 4
}
