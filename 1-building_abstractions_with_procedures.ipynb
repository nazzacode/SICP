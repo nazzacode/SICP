{
 "cells": [
  {
   "cell_type": "markdown",
   "metadata": {},
   "source": [
    "# 1 Building Abstractions with Procedures"
   ]
  },
  {
   "cell_type": "markdown",
   "metadata": {},
   "source": [
    "\n",
    ">*\\\"We conjure the spirits of the computer with our spells\\\"*\n",
    "\n",
    "**Computational process:** abstract beings that inhabit computers"
   ]
  },
  {
   "cell_type": "markdown",
   "metadata": {},
   "source": [
    "## 1.1 The Elements of Programming "
   ]
  },
  {
   "cell_type": "markdown",
   "metadata": {},
   "source": [
    "### 1.1.4 Compound Procedures\n"
   ]
  },
  {
   "cell_type": "markdown",
   "metadata": {},
   "source": [
    "General form of a procedure definition:\n",
    "\n",
    "```Scheme\n",
    "(define (<name>  <parameters>)  <body>)\n",
    "```"
   ]
  },
  {
   "cell_type": "code",
   "execution_count": 3,
   "metadata": {},
   "outputs": [
    {
     "data": {
      "text/plain": [
       "100"
      ]
     },
     "execution_count": 3,
     "metadata": {},
     "output_type": "execute_result"
    }
   ],
   "source": [
    "(define (square x) (* x x))\n",
    "\n",
    "(square 10)"
   ]
  },
  {
   "cell_type": "markdown",
   "metadata": {},
   "source": [
    "### 1.1.6 Conditional Expressions and Predicates"
   ]
  },
  {
   "cell_type": "markdown",
   "metadata": {},
   "source": [
    "General form of a conditional ```cond```, aka case-analysis:\n",
    "\n",
    "```Scheme\n",
    "(cond  (<p1>  <e1>)\n",
    "       (<p2>  <e2>)\n",
    "       ...\n",
    "       (<pn> <en>)\n",
    "```"
   ]
  },
  {
   "cell_type": "code",
   "execution_count": 1,
   "metadata": {},
   "outputs": [
    {
     "data": {
      "text/plain": [
       "33"
      ]
     },
     "execution_count": 1,
     "metadata": {},
     "output_type": "execute_result"
    }
   ],
   "source": [
    "(define (abs x)\n",
    "    (cond ((> x 0) x)\n",
    "          ((= x 0) 0)\n",
    "          ((< x 0) (- x))))\n",
    "\n",
    "(abs -33)"
   ]
  },
  {
   "cell_type": "markdown",
   "metadata": {},
   "source": [
    "General form of an ```if``` conditional:\n",
    "```Scheme\n",
    "(if <predicate> <consequent> <alternative>)\n",
    "```\n",
    "General form of `and`, ```or``` and ```not``` operators:\n",
    "```Scheme\n",
    "(and <e1> ... <en>) \n",
    "\n",
    "(or <e1> ... <en>) \n",
    "\n",
    "(not <e>)\n",
    "```"
   ]
  },
  {
   "cell_type": "markdown",
   "metadata": {
    "jupyter": {
     "source_hidden": true
    }
   },
   "source": [
    "### 1.1.7 Example Square Roots by Newton's Method\n"
   ]
  },
  {
   "cell_type": "markdown",
   "metadata": {},
   "source": [
    ">*\\\"In maths we are principally concerned with 'what is'. In computing we are principally concerned with 'how to'.\\\"*\n",
    "\n",
    "Newtons method of successive approximations dictates that for guess y for the square root of x we can improve our guess my taking the average of y and x/y."
   ]
  },
  {
   "cell_type": "code",
   "execution_count": 5,
   "metadata": {},
   "outputs": [
    {
     "data": {
      "text/plain": [
       "11.704699917758145"
      ]
     },
     "execution_count": 5,
     "metadata": {},
     "output_type": "execute_result"
    }
   ],
   "source": [
    "(define (sqrt-iter guess x)\n",
    "  (if (good-enough guess x) ; removeded '?' from good-enough def for clearer naming standard imho \n",
    "      guess\n",
    "  (sqrt-iter (improve guess x) x)))\n",
    "\n",
    "(define (improve guess x)\n",
    "  (average guess (/ x guess)))\n",
    "\n",
    "(define (average x y)\n",
    "(/ (+ x y) 2))\n",
    "\n",
    "(define (good-enough guess x)\n",
    "  (< (abs(- (square guess) x)) 0.001))\n",
    "\n",
    "(define (sqrt x)\n",
    "  (sqrt-iter 1.0 x))\n",
    "\n",
    "; use our method to calculate a square root\n",
    "(sqrt (+ 100 37))"
   ]
  },
  {
   "cell_type": "markdown",
   "metadata": {},
   "source": [
    "### 1.1.8 Procedures as Black Box Abstractions"
   ]
  },
  {
   "cell_type": "markdown",
   "metadata": {},
   "source": [
    "**Formal parameter:** parameters where it doesn't matter what name it has  \n",
    "**Bound Variable:** the name of a formal parameter; a procedure *binds* its formal parameters  \n",
    "**Free Variable:** A variable that is unbound  \n",
    "**Scope:** the set of of expressions for which a binding defines a name  \n",
    "\n",
    "In the definition of `good-enough`, ```guess``` and ```x``` are bound variables, but ```<```, ```-```, ```abs``` and ```square``` are free. If we renamed ```guess``` to ```abs``` we would have introduced a bug by *capturing* the ```abs``` variable. \n",
    "\n",
    "#### Internal definitions and block structure\n",
    "Some problems with the above code. Only `sqrt` is useful to users, the rest is mind clutter. Additionally we would like to localise the subprocedures so many programmers can implement a private `good-enough` procedure. Solution: allow procedures to have internal definitions."
   ]
  },
  {
   "cell_type": "code",
   "execution_count": 33,
   "metadata": {},
   "outputs": [
    {
     "data": {
      "text/plain": [
       "13.000000070110696"
      ]
     },
     "execution_count": 33,
     "metadata": {},
     "output_type": "execute_result"
    }
   ],
   "source": [
    "(define (sqrt x)\n",
    "  \n",
    "  (define (good-enough? guess x)\n",
    "    (< (abs (- (square guess) x)) \n",
    "       0.001))\n",
    "  \n",
    "  (define (improve guess x)\n",
    "    (average guess\n",
    "      (/ x guess)))\n",
    "  \n",
    "  (define (sqrt-iter guess x)\n",
    "    (if (good-enough? guess x)\n",
    "      guess\n",
    "      (sqrt-iter (improve guess x) x)))\n",
    "  \n",
    "  (sqrt-iter 1.0 x))\n",
    "\n",
    "(sqrt 169)"
   ]
  },
  {
   "cell_type": "markdown",
   "metadata": {},
   "source": [
    "## 1.2 Procedures and the Processes They Generate"
   ]
  },
  {
   "cell_type": "markdown",
   "metadata": {},
   "source": [
    "> This section considers the common 'shapes' of processes that make up programs. "
   ]
  },
  {
   "cell_type": "markdown",
   "metadata": {},
   "source": [
    "### 1.2.1 Linear Recursion and Iteration"
   ]
  },
  {
   "cell_type": "markdown",
   "metadata": {},
   "source": [
    "**Recursive process:** expansion occurs by building up a chain of deffered operations.\n",
    "\n",
    "**Iterative process:** state can be summarised by a fixed number of state variables and does not grow and shrink in the same way.\n",
    "\n",
    "\n"
   ]
  },
  {
   "cell_type": "markdown",
   "metadata": {},
   "source": [
    "### 1.2.2 Tree Recursion "
   ]
  },
  {
   "cell_type": "code",
   "execution_count": 41,
   "metadata": {},
   "outputs": [
    {
     "data": {
      "text/plain": [
       "6"
      ]
     },
     "execution_count": 41,
     "metadata": {},
     "output_type": "execute_result"
    }
   ],
   "source": [
    "; Excersice 1.12\n",
    "; Write a procedure to recursivly calculate entries of pascals triangle\n",
    "(define (pascals_triangle row col)\n",
    "  (if (or (= col 0) (= col row)) \n",
    "    1\n",
    "    (+ (pascals_triangle (- row 1) (- col 1)) \n",
    "       (pascals_triangle (- row 1) col))))\n",
    "\n",
    "(pascals_triangle 4 2)"
   ]
  },
  {
   "cell_type": "code",
   "execution_count": 2,
   "metadata": {},
   "outputs": [
    {
     "data": {
      "text/plain": [
       "2"
      ]
     },
     "execution_count": 2,
     "metadata": {},
     "output_type": "execute_result"
    }
   ],
   "source": [
    "; Alternate solution\n",
    "(define (choose n r)\n",
    "  (/ (! n)\n",
    "     (* (! r) \n",
    "        (! (- n r)))))\n",
    "\n",
    "  (define (! n)\n",
    "    (if (= n 0) \n",
    "      1\n",
    "      (* n \n",
    "         (! (- n 1)))))   \n",
    "  \n",
    "; not working\n",
    "(choose 2 0)"
   ]
  },
  {
   "cell_type": "markdown",
   "metadata": {},
   "source": [
    "### 1.2.3 Orders of Growth"
   ]
  },
  {
   "cell_type": "markdown",
   "metadata": {},
   "source": [
    "We say $R(n)$ has order of growth $\\Theta(f(n))$ if there are positive constants $k_1$ and $k_2$ such that $k_1 f(n) \\leq R(n) \\leq k_2 f(n)$  any sufficiently large value of n."
   ]
  },
  {
   "cell_type": "code",
   "execution_count": 6,
   "metadata": {},
   "outputs": [
    {
     "data": {
      "text/plain": [
       "-0.060813768577286265"
      ]
     },
     "execution_count": 6,
     "metadata": {},
     "output_type": "execute_result"
    }
   ],
   "source": [
    "; Excersice 1.15\n",
    "; Write a procedure to aproximate the value of sine x given\n",
    "; sin x (aprox)= x if x is small (< 0.1rad), and,\n",
    "; sin x = 3sin(x/3) - 4sin^3(x/3)\n",
    "(define (cube x) (* x x x))\n",
    "\n",
    "(define (p x) (- (* 3 x) (* 4 (cube x))))\n",
    "  \n",
    "(define (sine angle)\n",
    "  (if (not (> (abs angle) 0.1))\n",
    "    angle\n",
    "    (p (sine (/ angle 3.0)))))\n"
   ]
  },
  {
   "cell_type": "code",
   "execution_count": 23,
   "metadata": {},
   "outputs": [
    {
     "name": "stderr",
     "output_type": "stream",
     "text": [
      "\u001b[0;31m\n",
      "Traceback (most recent call last):\n",
      "  File \"In [23]\", line 10, col 1, in 'sine1'\n",
      "  File \"In [23]\", line 8, col 11, in 'p'\n",
      "  File \"In [23]\", line 8, col 11\n",
      "RunTimeError: incorrect number of arguments in application\n",
      "\n",
      "\u001b[0m"
     ]
    }
   ],
   "source": [
    "; a. How many times  is the procedure p applied when (sin 12.5) is evaluated?\n",
    "(define sine_count 0)\n",
    " \n",
    "(define (sine1 angle)\n",
    "  (cond ((not (> (abs angle) 0.1)) angle)\n",
    "        (else \n",
    "          (set! sine_count (+ sine_count 1))\n",
    "          (p sine1 (/ angle 3.0)))))\n",
    "\n",
    "; not working\n",
    "(sine1 0.2)\n",
    "sine_count"
   ]
  },
  {
   "cell_type": "markdown",
   "metadata": {},
   "source": [
    "### 1.2.4 Exponentiation"
   ]
  },
  {
   "cell_type": "markdown",
   "metadata": {},
   "source": [
    "### 1.2.5 Greatest Common Divisors"
   ]
  },
  {
   "cell_type": "markdown",
   "metadata": {},
   "source": [
    "### 1.2.6 Example: Testing for Primality"
   ]
  },
  {
   "cell_type": "code",
   "execution_count": null,
   "metadata": {
    "jupyter": {
     "source_hidden": true
    },
    "scrolled": true
   },
   "outputs": [],
   "source": []
  }
 ],
 "metadata": {
  "kernelspec": {
   "display_name": "Calysto Scheme 3",
   "language": "scheme",
   "name": "calysto_scheme"
  },
  "language_info": {
   "codemirror_mode": {
    "name": "scheme"
   },
   "mimetype": "text/x-scheme",
   "name": "scheme",
   "pygments_lexer": "scheme"
  }
 },
 "nbformat": 4,
 "nbformat_minor": 4
}
