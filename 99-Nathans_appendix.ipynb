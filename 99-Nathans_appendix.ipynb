{
 "cells": [
  {
   "cell_type": "code",
   "execution_count": 11,
   "metadata": {},
   "outputs": [
    {
     "data": {
      "text/plain": [
       "177"
      ]
     },
     "execution_count": 11,
     "metadata": {},
     "output_type": "execute_result"
    }
   ],
   "source": [
    "; counting reccursive calls fibonacci procedure\n",
    "(define fibcount1 0)\n",
    "\n",
    "(define fibonacci1\n",
    "  (lambda (n)\n",
    "    (let fib ((i n))\n",
    "      (set! fibcount1 (+ fibcount1 1))\n",
    "      (cond\n",
    "        ((= i 0) 0)\n",
    "        ((= i 1) 1)\n",
    "        (else (+ (fib (- i 1)) (fib (- i 2))))))))\n",
    "\n",
    "(fibonacci1 10)\n",
    "fibcount1"
   ]
  },
  {
   "cell_type": "code",
   "execution_count": 10,
   "metadata": {},
   "outputs": [
    {
     "data": {
      "text/plain": [
       "10"
      ]
     },
     "execution_count": 10,
     "metadata": {},
     "output_type": "execute_result"
    }
   ],
   "source": [
    "; counting reccursive calls fibonacci procedure pt2\n",
    "(define fibcount2 0)\n",
    "(define fibonacci2\n",
    "  (lambda (n)\n",
    "    (if (= n 0)\n",
    "        0\n",
    "        (let fib ((i n) (a1 1) (a2 0))\n",
    "          (set! fibcount2 (+ fibcount2 1))\n",
    "          (if (= i 1)\n",
    "              a1\n",
    "              (fib (- i 1) (+ a1 a2) a1))))))\n",
    "\n",
    "(fibonacci2 10)\n",
    "fibcount2"
   ]
  },
  {
   "cell_type": "code",
   "execution_count": null,
   "metadata": {},
   "outputs": [],
   "source": []
  }
 ],
 "metadata": {
  "kernelspec": {
   "display_name": "Calysto Scheme 3",
   "language": "scheme",
   "name": "calysto_scheme"
  },
  "language_info": {
   "codemirror_mode": {
    "name": "scheme"
   },
   "mimetype": "text/x-scheme",
   "name": "scheme",
   "pygments_lexer": "scheme"
  }
 },
 "nbformat": 4,
 "nbformat_minor": 4
}
